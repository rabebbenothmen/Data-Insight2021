{
 "cells": [
  {
   "cell_type": "raw",
   "id": "b3221f24",
   "metadata": {},
   "source": [
    "This is a simple app using python to generate password from first names.\n",
    "\n"
   ]
  },
  {
   "cell_type": "code",
   "execution_count": 2,
   "id": "1e8e5afb",
   "metadata": {},
   "outputs": [],
   "source": [
    "#import modules\n",
    "import random\n",
    "import string"
   ]
  },
  {
   "cell_type": "code",
   "execution_count": 34,
   "id": "674475f4",
   "metadata": {},
   "outputs": [
    {
     "name": "stdout",
     "output_type": "stream",
     "text": [
      "hello! to password generator from username\n"
     ]
    }
   ],
   "source": [
    "print(\"hello! to password generator from username\")\n",
    "\n",
    "def generate_password(name):\n",
    "    #convert username to lowercase\n",
    "    lower = name.lower()\n",
    "    \n",
    "    #convert username to uppercase\n",
    "    upper = name.upper()\n",
    "    \n",
    "    #store number and symbols\n",
    "    num = string.digits\n",
    "    symbols = string.punctuation\n",
    "    \n",
    "    all =  num + symbols\n",
    "\n",
    "    # Generate random 4 lower character from username \n",
    "    password1 = ''.join(random.choice(lower) for i in range(4))\n",
    "    # Generate random 4 upper character from username \n",
    "    password2 = ''.join(random.choice(upper) for i in range(4))\n",
    "    # Generate random 3 number and symbols \n",
    "    password3 = ''.join(random.choice(all) for i in range(3))\n",
    "\n",
    "    #Concatenate the edited username with the random numbers and symbols and return the generated password\n",
    "    password = password1 + password2 + password3\n",
    "    return password\n",
    "\n",
    "\n",
    "\n"
   ]
  },
  {
   "cell_type": "code",
   "execution_count": 35,
   "id": "dc4a588f",
   "metadata": {},
   "outputs": [
    {
     "name": "stdout",
     "output_type": "stream",
     "text": [
      "Please Enter your usernamerabeb\n",
      "your password is rbraREAB}@4\n"
     ]
    }
   ],
   "source": [
    "#input your name\n",
    "name = str(input(\"Please Enter your username\"))\n",
    "print(\"your password is \" + generate_password(name))"
   ]
  },
  {
   "cell_type": "code",
   "execution_count": null,
   "id": "d794b53c",
   "metadata": {},
   "outputs": [],
   "source": []
  }
 ],
 "metadata": {
  "kernelspec": {
   "display_name": "Python 3",
   "language": "python",
   "name": "python3"
  },
  "language_info": {
   "codemirror_mode": {
    "name": "ipython",
    "version": 3
   },
   "file_extension": ".py",
   "mimetype": "text/x-python",
   "name": "python",
   "nbconvert_exporter": "python",
   "pygments_lexer": "ipython3",
   "version": "3.8.8"
  }
 },
 "nbformat": 4,
 "nbformat_minor": 5
}
