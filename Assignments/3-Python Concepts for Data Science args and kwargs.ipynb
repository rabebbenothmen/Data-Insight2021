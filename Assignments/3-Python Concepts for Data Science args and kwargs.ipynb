{
 "cells": [
  {
   "cell_type": "code",
   "execution_count": 8,
   "id": "af96a436",
   "metadata": {},
   "outputs": [
    {
     "name": "stdout",
     "output_type": "stream",
     "text": [
      "24\n",
      "32\n"
     ]
    }
   ],
   "source": [
    "#Python *args\n",
    "\n",
    "# packing explicite\n",
    "def area_rectangle(*args):  # the arguments passed in parameter are packaged in args which behaves like a tuple \n",
    "    if len(args) == 2:\n",
    "        return args[0]*args[1]\n",
    "    else:\n",
    "        print('Please state two parameters')\n",
    "\n",
    "#Python *kwargs\n",
    "def area_rectangle2(**kwargs):  # the arguments passed in parameter are packaged in kwargs which behaves like a dictionary \n",
    "    if len(kwargs) == 2:\n",
    "        result = 1\n",
    "        for key, value in kwargs.items():\n",
    "            result *=value\n",
    "        return result\n",
    "    else:\n",
    "        print('Please state two parameters')\n",
    "\n",
    "if __name__ == '__main__':\n",
    "    # A list will be created from the arguments provided \n",
    "    print (area_rectangle(3,8))\n",
    "    # A dictionary will be created from the named arguments\n",
    "    print (area_rectangle2(cote1=4, cote2=8))"
   ]
  },
  {
   "cell_type": "code",
   "execution_count": null,
   "id": "50b12dad",
   "metadata": {},
   "outputs": [],
   "source": []
  }
 ],
 "metadata": {
  "kernelspec": {
   "display_name": "Python 3",
   "language": "python",
   "name": "python3"
  },
  "language_info": {
   "codemirror_mode": {
    "name": "ipython",
    "version": 3
   },
   "file_extension": ".py",
   "mimetype": "text/x-python",
   "name": "python",
   "nbconvert_exporter": "python",
   "pygments_lexer": "ipython3",
   "version": "3.8.8"
  }
 },
 "nbformat": 4,
 "nbformat_minor": 5
}
